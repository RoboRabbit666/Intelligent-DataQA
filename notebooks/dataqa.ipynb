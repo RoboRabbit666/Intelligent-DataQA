{
 "cells": [
  {
   "cell_type": "code",
   "execution_count": null,
   "id": "c7b5c843",
   "metadata": {},
   "outputs": [],
   "source": [
    "from pathlib import Path\n",
    "import sys\n",
    "sys.path.append(str(Path.cwd().parent))"
   ]
  },
  {
   "cell_type": "code",
   "execution_count": null,
   "id": "a2ac4fdc",
   "metadata": {},
   "outputs": [],
   "source": [
    "from czce_ai.llm.chat import LLMChat\n",
    "from czce_ai.llm.message import Message\n",
    "from app.core.components import document_kd, qwen3_llm, qwen3_thinking_llm\n",
    "from data_qa.dataqa import DataQaWorkflow"
   ]
  },
  {
   "cell_type": "code",
   "execution_count": null,
   "id": "28044a3c",
   "metadata": {},
   "outputs": [],
   "source": [
    "dataqa = DataQaWorkflow(\n",
    "    ans_llm=qwen3_llm,\n",
    "    ans_thinking_llm=qwen3_thinking_llm,\n",
    "    query_llm=qwen3_llm,\n",
    "    reranking_threshold=0.7\n",
    ")"
   ]
  },
  {
   "cell_type": "markdown",
   "id": "e352c45a",
   "metadata": {},
   "source": [
    "# 测试单个函数"
   ]
  },
  {
   "cell_type": "code",
   "execution_count": null,
   "id": "96c6b9ea",
   "metadata": {},
   "outputs": [],
   "source": [
    "query=\"苹果是在哪个交易所上市的\""
   ]
  },
  {
   "cell_type": "code",
   "execution_count": null,
   "id": "cdeaa43e",
   "metadata": {},
   "outputs": [],
   "source": [
    "# 修改用户问题\n",
    "optimized_query = dataqa.modify_query(\n",
    "    input_messages=[\n",
    "        Message(role='user', content='苹果是在哪个交易所上市的'),\n",
    "        Message(role='user', content='这个品种2024年最高成交量出现在哪一个月'),\n",
    "    ]\n",
    ")\n",
    "\n",
    "optimized_query.rewritten_query"
   ]
  },
  {
   "cell_type": "code",
   "execution_count": null,
   "id": "0883c7ca",
   "metadata": {},
   "outputs": [],
   "source": [
    "# 实体识别\n",
    "query = dataqa.entity_recognition(optimized_query.rewritten_query)\n",
    "print(query)"
   ]
  },
  {
   "cell_type": "code",
   "execution_count": null,
   "id": "18090fa2",
   "metadata": {},
   "outputs": [],
   "source": [
    "# 定位表\n",
    "located_table = dataqa.locate_table(query)\n",
    "located_table"
   ]
  },
  {
   "cell_type": "code",
   "execution_count": null,
   "id": "b1c9a2c3",
   "metadata": {},
   "outputs": [],
   "source": [
    "single_table_prompt = dataqa.generate_single_table_prompt('e3b88cb2-a213-5fcc-aa1a-90700d3a83de')\n",
    "single_table_prompt"
   ]
  },
  {
   "cell_type": "code",
   "execution_count": null,
   "id": "2d118612",
   "metadata": {},
   "outputs": [],
   "source": [
    "response = dataqa.generate_sql_code()"
   ]
  }
 ],
 "metadata": {
  "language_info": {
   "name": "python"
  }
 },
 "nbformat": 4,
 "nbformat_minor": 5
}
