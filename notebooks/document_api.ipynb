{
 "cells": [
  {
   "cell_type": "code",
   "execution_count": null,
   "id": "472082ff",
   "metadata": {},
   "outputs": [],
   "source": [
    "import os\n",
    "from pathlib import Path\n",
    "\n",
    "sys.path.append(str(Path.cwd().parent))\n",
    "\n",
    "from app.core.components import milvus\n",
    "\n",
    "from app.utils.document_parse_helper import DocumentParseRequest, SplitterInfo\n",
    "from czce_ai.document.splitter import SplitterType\n",
    "from app.core.knowledge.document import doc_parse"
   ]
  },
  {
   "cell_type": "code",
   "execution_count": null,
   "id": "46ee0bbb",
   "metadata": {},
   "outputs": [],
   "source": []
  },
  {
   "cell_type": "code",
   "execution_count": null,
   "id": "2aab5b8a",
   "metadata": {},
   "outputs": [],
   "source": []
  }
 ],
 "metadata": {
  "language_info": {
   "name": "python"
  }
 },
 "nbformat": 4,
 "nbformat_minor": 5
}
