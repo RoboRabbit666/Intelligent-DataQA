{
 "cells": [
  {
   "cell_type": "code",
   "execution_count": null,
   "id": "472082ff",
   "metadata": {},
   "outputs": [],
   "source": [
    "import os\n",
    "from pathlib import Path\n",
    "\n",
    "sys.path.append(str(Path.cwd().parent))\n",
    "\n",
    "from app.core.components import milvus\n",
    "\n",
    "from app.utils.document_parse_helper import DocumentParseRequest, SplitterInfo\n",
    "from czce_ai.document.splitter import SplitterType\n",
    "from app.core.knowledge.document import doc_parse"
   ]
  },
  {
   "cell_type": "markdown",
   "id": "589f8135",
   "metadata": {},
   "source": [
    "1. 测试函数文档解析服务核心函数"
   ]
  },
  {
   "cell_type": "code",
   "execution_count": null,
   "id": "46ee0bbb",
   "metadata": {},
   "outputs": [],
   "source": [
    "pattern_1 = r\"^(?:(第(?:一|二|三|四|五|六|七|八|九|十|百|千|零)+章)(.*))\"\n",
    "pattern_2 = r\"^(第(?:一|二|三|四|五|六|七|八|九|十|百|千|零)+条)(.*)\"\n",
    "pattern_3 = r\"^(?:(一|二|三|四|五|六|七|八|九|十)+、)\"\n",
    "headers_to_split_on = [\n",
    "    (pattern_1, \"header1\"),\n",
    "    (pattern_2, \"header2\"),\n",
    "    (pattern_3, \"header3\"),\n",
    "]"
   ]
  },
  {
   "cell_type": "code",
   "execution_count": null,
   "id": "2aab5b8a",
   "metadata": {},
   "outputs": [],
   "source": [
    "splitter_info = SplitterInfo(\n",
    "    split_type=SplitterType.Regex,\n",
    "    chunk_size=1024,\n",
    "    separators=headers_to_split_on\n",
    ")"
   ]
  },
  {
   "cell_type": "code",
   "execution_count": null,
   "id": "800c002e",
   "metadata": {},
   "outputs": [],
   "source": [
    "splitter_info"
   ]
  },
  {
   "cell_type": "code",
   "execution_count": null,
   "id": "116ef874",
   "metadata": {},
   "outputs": [],
   "source": [
    "knowledge_id = \"3cc33ed2-21fb-4452-9e10-528867bd5f98\"\n",
    "collection_name = \"rag_knowledge\"\n",
    "bucket_name = \"czce-ai-dev\""
   ]
  },
  {
   "cell_type": "code",
   "execution_count": null,
   "id": "7023bb7c",
   "metadata": {},
   "outputs": [],
   "source": [
    "doc_id = 'ff302881-64cc-5ce6-866e-bb9aa77c1c12'\n",
    "original_name = \"郑州商品交易所固定资产管理办法.docx\""
   ]
  },
  {
   "cell_type": "code",
   "execution_count": null,
   "id": "27aca6df",
   "metadata": {},
   "outputs": [],
   "source": [
    "milvus.create(collection_name)"
   ]
  },
  {
   "cell_type": "code",
   "execution_count": null,
   "id": "9ce35625",
   "metadata": {},
   "outputs": [],
   "source": [
    "req = DocumentParseRequest(\n",
    "    doc_id=doc_id,\n",
    "    original_name=original_name,\n",
    "    bucket=bucket_name,\n",
    "    collection_name=collection_name,\n",
    "    knowledge_id=knowledge_id,\n",
    "    splitter_info=None\n",
    ")\n",
    "req"
   ]
  },
  {
   "cell_type": "code",
   "execution_count": null,
   "id": "00f1880e",
   "metadata": {},
   "outputs": [],
   "source": [
    "res = doc_parse(req)"
   ]
  },
  {
   "cell_type": "code",
   "execution_count": null,
   "id": "befaec26",
   "metadata": {},
   "outputs": [],
   "source": [
    "res.chunks[3]"
   ]
  },
  {
   "cell_type": "markdown",
   "id": "3e461ea3",
   "metadata": {},
   "source": [
    "2. 测试服务 - 测试前需要首先使用uvicorn运行app/scripts/service_launcher.py启动服务"
   ]
  },
  {
   "cell_type": "code",
   "execution_count": null,
   "id": "d575033b",
   "metadata": {},
   "outputs": [],
   "source": [
    "import requests\n",
    "def test_post():\n",
    "    \"\"\"测试rag_workflow_api的功能\n",
    "    说明:\n",
    "        运行该函数之前先运行app/rag_workflow/下面的service_lancher.py来启动服务\n",
    "    \"\"\"\n",
    "    url = \"http://localhost:7996/document/parse\"\n",
    "    headers = {\"Content-Type\": \"application/json\"}\n",
    "    response = requests.post(url, req.model_dump_json())\n",
    "    print(response.json()[\"chunks\"][3])\n",
    "\n",
    "test_post()"
   ]
  }
 ],
 "metadata": {
  "language_info": {
   "name": "python"
  }
 },
 "nbformat": 4,
 "nbformat_minor": 5
}
