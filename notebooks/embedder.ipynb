{
 "cells": [
  {
   "cell_type": "code",
   "execution_count": null,
   "id": "4532d909",
   "metadata": {
    "vscode": {
     "languageId": "plaintext"
    }
   },
   "outputs": [],
   "source": [
    "from czce.ai.embedder.bgem3 import BgeM3Embedder"
   ]
  },
  {
   "cell_type": "code",
   "execution_count": null,
   "id": "5d1e2d58",
   "metadata": {
    "vscode": {
     "languageId": "plaintext"
    }
   },
   "outputs": [],
   "source": [
    "from czce.ai.embedder.bgem3 import BgeM3Embedder"
   ]
  },
  {
   "cell_type": "code",
   "execution_count": null,
   "id": "22bb3f6d",
   "metadata": {
    "vscode": {
     "languageId": "plaintext"
    }
   },
   "outputs": [],
   "source": [
    "embedder = BgeM3Embedder(base_url=\"http://10.251.146.132:8002/v1\", api_key=\"your_api_key\")\n",
    "\n",
    "ret = embedder.get_embedding_and_usage(\"你好\")\n",
    "print(len(ret[0]))"
   ]
  },
  {
   "cell_type": "code",
   "execution_count": null,
   "id": "1e61affd",
   "metadata": {
    "vscode": {
     "languageId": "plaintext"
    }
   },
   "outputs": [],
   "source": [
    "ret = embedder.response(\"信息科技一部\")"
   ]
  }
 ],
 "metadata": {
  "language_info": {
   "name": "python"
  }
 },
 "nbformat": 4,
 "nbformat_minor": 5
}
